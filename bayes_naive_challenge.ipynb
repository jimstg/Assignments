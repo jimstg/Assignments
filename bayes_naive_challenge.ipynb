{
 "cells": [
  {
   "cell_type": "code",
   "execution_count": 2,
   "metadata": {},
   "outputs": [],
   "source": [
    "%matplotlib inline\n",
    "import numpy as np\n",
    "import pandas as pd\n",
    "import scipy\n",
    "import sklearn\n",
    "import matplotlib.pyplot as plt\n",
    "import seaborn as sns"
   ]
  },
  {
   "cell_type": "code",
   "execution_count": 48,
   "metadata": {},
   "outputs": [
    {
     "name": "stdout",
     "output_type": "stream",
     "text": [
      "                                               message  positive  all_caps\n",
      "0    So there is no way for me to plug it in here i...         0     False\n",
      "1                          Good case, Excellent value.         1     False\n",
      "2                               Great for the jawbone.         1     False\n",
      "3    Tied to charger for conversations lasting more...         0     False\n",
      "4                                    The mic is great.         1     False\n",
      "5    I have to jiggle the plug to get it to line up...         0     False\n",
      "6    If you have several dozen or several hundred c...         0     False\n",
      "7          If you are Razr owner...you must have this!         1     False\n",
      "8                  Needless to say, I wasted my money.         0     False\n",
      "9                     What a waste of money and time!.         0     False\n",
      "10                     And the sound quality is great.         1     False\n",
      "11   He was very impressed when going from the orig...         1     False\n",
      "12   If the two were seperated by a mere 5+ ft I st...         0     False\n",
      "13                            Very good quality though         1     False\n",
      "14   The design is very odd, as the ear \"clip\" is n...         0     False\n",
      "15   Highly recommend for any one who has a blue to...         1     False\n",
      "16                 I advise EVERYONE DO NOT BE FOOLED!         0     False\n",
      "17                                    So Far So Good!.         1     False\n",
      "18                                       Works great!.         1     False\n",
      "19   It clicks into place in a way that makes you w...         0     False\n",
      "20   I went on Motorola's website and followed all ...         0     False\n",
      "21   I bought this to use with my Kindle Fire and a...         1     False\n",
      "22            The commercials are the most misleading.         0     False\n",
      "23   I have yet to run this new battery below two b...         1     False\n",
      "24   I bought it for my mother and she had a proble...         0     False\n",
      "25                Great Pocket PC / phone combination.         1     False\n",
      "26   I've owned this phone for 7 months now and can...         1     False\n",
      "27   I didn't think that the instructions provided ...         0     False\n",
      "28   People couldnt hear me talk and I had to pull ...         0     False\n",
      "29                                Doesn't hold charge.         0     False\n",
      "..                                                 ...       ...       ...\n",
      "970  I plugged it in only to find out not a darn th...         0     False\n",
      "971                                 Excellent product.         1     False\n",
      "972                        Earbud piece breaks easily.         0     False\n",
      "973                                     Lousy product.         0     False\n",
      "974  This phone tries very hard to do everything bu...         0     False\n",
      "975  It is the best charger I have seen on the mark...         1     False\n",
      "976                                  SWEETEST PHONE!!!         1      True\n",
      "977             :-)Oh, the charger seems to work fine.         1     False\n",
      "978  It fits so securely that the ear hook does not...         1     False\n",
      "979                                 Not enough volume.         0     False\n",
      "980                Echo Problem....Very unsatisfactory         0     False\n",
      "981  you could only take 2 videos at a time and the...         0     False\n",
      "982                            don't waste your money.         0     False\n",
      "983  I am going to have to be the first to negative...         0     False\n",
      "984  Adapter does not provide enough charging current.         0     False\n",
      "985  There was so much hype over this phone that I ...         0     False\n",
      "986  You also cannot take pictures with it in the c...         0     False\n",
      "987                            Phone falls out easily.         0     False\n",
      "988  It didn't work, people can not hear me when I ...         0     False\n",
      "989  The text messaging feature is really tricky to...         0     False\n",
      "990  I'm really disappointed all I have now is a ch...         0     False\n",
      "991                                Painful on the ear.         0     False\n",
      "992                   Lasted one day and then blew up.         0     False\n",
      "993                                      disappointed.         0     False\n",
      "994                              Kind of flops around.         0     False\n",
      "995  The screen does get smudged easily because it ...         0     False\n",
      "996  What a piece of junk.. I lose more calls on th...         0     False\n",
      "997                       Item Does Not Match Picture.         0     False\n",
      "998  The only thing that disappoint me is the infra...         0     False\n",
      "999  You can not answer calls with the unit, never ...         0     False\n",
      "\n",
      "[1000 rows x 3 columns]\n"
     ]
    }
   ],
   "source": [
    "amaz = pd.read_csv('amazon_cells_labelled.txt', sep=\"\\t\", header = None)\n",
    "amaz.columns = ['message','positive']\n",
    "\n",
    "amaz['all_caps'] = amaz.message.str.isupper()\n",
    "print(amaz)"
   ]
  },
  {
   "cell_type": "code",
   "execution_count": 49,
   "metadata": {},
   "outputs": [],
   "source": [
    "keywords = ['Great', 'fantastic', 'good', 'happy', 'friend', 'positive', 'nice', 'excellent', 'best']\n",
    "\n",
    "for key in keywords:\n",
    "    amaz[str(key)] = amaz.message.str.contains(' '+ str(key) + ' ', case=False)"
   ]
  },
  {
   "cell_type": "code",
   "execution_count": 50,
   "metadata": {},
   "outputs": [],
   "source": [
    "amaz['positive'] = (amaz['positive'] == 1)"
   ]
  },
  {
   "cell_type": "code",
   "execution_count": 51,
   "metadata": {},
   "outputs": [
    {
     "data": {
      "text/plain": [
       "<matplotlib.axes._subplots.AxesSubplot at 0x2908a5fdd30>"
      ]
     },
     "execution_count": 51,
     "metadata": {},
     "output_type": "execute_result"
    },
    {
     "data": {
      "image/png": "[encoded data removed]",
      "text/plain": [
       "<Figure size 432x288 with 2 Axes>"
      ]
     },
     "metadata": {
      "needs_background": "light"
     },
     "output_type": "display_data"
    }
   ],
   "source": [
    "sns.heatmap(amaz.corr())"
   ]
  },
  {
   "cell_type": "code",
   "execution_count": 52,
   "metadata": {},
   "outputs": [],
   "source": [
    "data = amaz[keywords + ['all_caps']]\n",
    "target = amaz['positive']\n"
   ]
  },
  {
   "cell_type": "code",
   "execution_count": 53,
   "metadata": {},
   "outputs": [],
   "source": [
    "from sklearn.naive_bayes import BernoulliNB\n",
    "\n",
    "bnb = BernoulliNB()\n",
    "\n",
    "bnb.fit(data, target)\n",
    "\n",
    "y_pred = bnb.predict(data)\n"
   ]
  },
  {
   "cell_type": "code",
   "execution_count": 54,
   "metadata": {},
   "outputs": [
    {
     "name": "stdout",
     "output_type": "stream",
     "text": [
      "Number of positive points out of the total 1000 points: 0\n"
     ]
    }
   ],
   "source": [
    "print(\"Number of positive points out of the total {} points: {}\".format(data.shape[0], (target != y_pred).sum()))"
   ]
  }
 ],
 "metadata": {
  "kernelspec": {
   "display_name": "Python 3",
   "language": "python",
   "name": "python3"
  },
  "language_info": {
   "codemirror_mode": {
    "name": "ipython",
    "version": 3
   },
   "file_extension": ".py",
   "mimetype": "text/x-python",
   "name": "python",
   "nbconvert_exporter": "python",
   "pygments_lexer": "ipython3",
   "version": "3.7.2"
  }
 },
 "nbformat": 4,
 "nbformat_minor": 2
}
